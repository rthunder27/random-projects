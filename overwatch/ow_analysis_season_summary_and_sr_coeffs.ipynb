{
 "cells": [
  {
   "cell_type": "code",
   "execution_count": null,
   "metadata": {},
   "outputs": [],
   "source": [
    "\"\"\"\n",
    "The intent behind this notebook was to develop season summary statistics and to explore a longstanding question around SR changes, do some players consistently get rewarded more for wins/punished more for losses than other players.\n",
    "\n",
    "\"\"\""
   ]
  },
  {
   "cell_type": "code",
   "execution_count": 1,
   "metadata": {},
   "outputs": [],
   "source": [
    "\n",
    "import pandas as pd\n",
    "import time\n",
    "import matplotlib.pyplot as plt\n",
    "import os\n",
    "import numpy as np\n",
    "import statsmodels.api as sm"
   ]
  },
  {
   "cell_type": "code",
   "execution_count": 2,
   "metadata": {},
   "outputs": [],
   "source": [
    "support_heroes={'Ana','Baptiste','Brigette','Lucio','Mercy','Moira','Zenyatta'}\n",
    "tank_heroes={'D.Va','Orisa','Reinhart','Roadhog','Sigma','Winston','Wrecking Ball','Zarya'}\n",
    "damage_heroes={'Ashe',\n",
    " 'Bastion',\n",
    " 'Doomfist',\n",
    " 'Echo',\n",
    " 'Genji',\n",
    " 'Hanzo',\n",
    " 'Junkrat',\n",
    " 'McGree',\n",
    " 'Mei',\n",
    " 'Pharah',\n",
    " 'Reaper',\n",
    " 'Soldier: 76',\n",
    " 'Sombra',\n",
    " 'Symmetra',\n",
    " 'Torbjorn',\n",
    " 'Tracer',\n",
    " 'Widowmaker'}"
   ]
  },
  {
   "cell_type": "code",
   "execution_count": 4,
   "metadata": {},
   "outputs": [],
   "source": [
    "log_path='C:\\\\Users\\\\Matt\\\\Documents\\\\GitHub\\\\random-projects\\\\overwatch\\\\'\n",
    "pivoted_ow_df=pd.read_csv(log_path+'full_comp_stats_running.csv',index_col=('date','player','hero'))\n",
    "new_df=pivoted_ow_df.reset_index()\n",
    "new_df['date']=pd.to_datetime(new_df['date'],format='%Y_%m_%d')"
   ]
  },
  {
   "cell_type": "code",
   "execution_count": 7,
   "metadata": {},
   "outputs": [],
   "source": [
    "#run this for squad, then start looking at 3 cases- when all role losses or wins in day, or when equal.\n",
    "cols=['Time Played',\n",
    "'Games Lost',\n",
    "'Games Tied',\n",
    "'Games Won',\n",
    "'Games Played']\n",
    "roles=['Damage','Tank','Support']\n",
    "class OW_player_analysis():\n",
    "    def __init__(self,df):\n",
    "        #df is full pivoted table for one player\n",
    "        self.df=df\n",
    "        self.all_heroes=df[df['hero']=='All Heroes'].set_index('date').sort_index()#.dropna(axis=1,how='all')\n",
    "    #def sr_change_tracker(self): #No need to make this a separate method... \n",
    "        self.sr_diff=self.all_heroes[['Tank SR','Support SR','Damage SR','Games Played']].diff()\n",
    "    def specific_hero_diff(self,hero):\n",
    "        hero_df=self.df[self.df['hero']==hero].set_index('date').sort_index().dropna(axis=1,how='all').drop(['player','hero'],axis=1)\n",
    "        hero_diff_df=hero_df.diff()\n",
    "        return hero_df,hero_diff_df\n",
    "    def check_role_changes(self):\n",
    "        \"\"\"\n",
    "        What are we doing here? \n",
    "        What do we want? Support/tank/dps games played/won/lost/tied/time, along with SR changes\n",
    "        \n",
    "        Net positive avg change, net negative avg change, net neutral avg change\n",
    "        \n",
    "        Looks like a +29 for a net 0 on support for me on 5/15, which is not feasible. But this is not an error\n",
    "        in my code, that's how it is in the html files.\n",
    "        Also Net - Tank SR seems too low for 5/15, consider dropping that day\n",
    "        \n",
    "        Berg's 4/29 also makes no sense, a -29 despite having a new win. Dropped game? \n",
    "        Add sanity checks, if net 0 change>15, net pos<10, net negative>-10\n",
    "        \"\"\"\n",
    "        self.support=self.df.loc[new_df['hero'].isin(support_heroes),cols+['date']].groupby('date').sum().add_suffix(' Support')\n",
    "        self.support_dff=self.support.sort_index().diff()\n",
    "        \n",
    "        self.damage=self.df.loc[new_df['hero'].isin(damage_heroes),cols+['date']].groupby('date').sum().add_suffix(' Damage')\n",
    "        self.damage_dff=self.damage.sort_index().diff()\n",
    "        \n",
    "        self.tank=self.df.loc[new_df['hero'].isin(tank_heroes),cols+['date']].groupby('date').sum().add_suffix(' Tank')\n",
    "        self.tank_dff=self.tank.sort_index().diff()\n",
    "        \n",
    "        \n",
    "        self.all_roles=self.support.join(self.damage).join(self.tank,rsuffix='tank')\n",
    "        self.all_roles_dff=self.all_roles.sort_index().diff()\n",
    "        self.all_roles_dff_sr=self.all_roles_dff.join(self.sr_diff)\n",
    "        for role in roles:\n",
    "            self.all_roles_dff_sr[f\"Net {role} Games\"]=self.all_roles_dff_sr[f\"Games Won {role}\"]-self.all_roles_dff_sr[f\"Games Lost {role}\"]\n",
    "            net_pos_mask=((self.all_roles_dff_sr[f\"Net {role} Games\"]>0) &(self.all_roles_dff_sr[f\"Games Won {role}\"]>0) )\n",
    "            net_neg_mask=((self.all_roles_dff_sr[f\"Net {role} Games\"]<0) &(self.all_roles_dff_sr[f\"Games Lost {role}\"]>0) )\n",
    "            net_zero_mask=((self.all_roles_dff_sr[f\"Net {role} Games\"]==0) &(self.all_roles_dff_sr[f\"Games Won {role}\"]>0) )\n",
    "            self.all_roles_dff_sr.loc[net_pos_mask,f'Net + SR {role}']=self.all_roles_dff_sr.loc[net_pos_mask,f\"{role} SR\"]/self.all_roles_dff_sr.loc[net_pos_mask,f\"Net {role} Games\"]\n",
    "            self.all_roles_dff_sr.loc[net_neg_mask,f'Net - SR {role}']=self.all_roles_dff_sr.loc[net_neg_mask,f\"{role} SR\"]/self.all_roles_dff_sr.loc[net_neg_mask,f\"Net {role} Games\"]\n",
    "            self.all_roles_dff_sr.loc[net_zero_mask,f'Net 0 SR {role}']=self.all_roles_dff_sr.loc[net_zero_mask,f\"{role} SR\"]/self.all_roles_dff_sr.loc[net_zero_mask,f\"Games Won {role}\"]\n",
    "            #Sanity checks. SR change <12, >40 unreasonable? \n",
    "            self.all_roles_dff_sr.loc[self.all_roles_dff_sr[f'Net + SR {role}']>40,f'Net + SR {role}']=np.nan\n",
    "            self.all_roles_dff_sr.loc[self.all_roles_dff_sr[f'Net + SR {role}']<12,f'Net + SR {role}']=np.nan\n",
    "            self.all_roles_dff_sr.loc[self.all_roles_dff_sr[f'Net - SR {role}']>40,f'Net - SR {role}']=np.nan\n",
    "            self.all_roles_dff_sr.loc[self.all_roles_dff_sr[f'Net - SR {role}']<12,f'Net - SR {role}']=np.nan\n",
    "            self.all_roles_dff_sr.loc[self.all_roles_dff_sr[f'Net 0 SR {role}'].abs()>15,f'Net 0 SR {role}']=np.nan"
   ]
  },
  {
   "cell_type": "code",
   "execution_count": 7,
   "metadata": {},
   "outputs": [],
   "source": []
  },
  {
   "cell_type": "code",
   "execution_count": 63,
   "metadata": {},
   "outputs": [],
   "source": [
    "#Make this generic for all seasons, with a list of the seasons start dates\n"
   ]
  },
  {
   "cell_type": "code",
   "execution_count": null,
   "metadata": {},
   "outputs": [],
   "source": [
    "#MArch 5\n",
    "#may 7\n",
    "'2020-07-2'"
   ]
  },
  {
   "cell_type": "code",
   "execution_count": 71,
   "metadata": {},
   "outputs": [],
   "source": []
  },
  {
   "cell_type": "code",
   "execution_count": 17,
   "metadata": {},
   "outputs": [],
   "source": [
    "#Season summary. Average SR across the season (weighted by games played), high, low.\n",
    "new_df_date=new_df.set_index('date')\n",
    "season_start=pd.Timestamp('2020-07-2',freq='D')\n",
    "squad=['Rthunder27','BIGoleICEBERG','Seraph341','LaCroixDaddy','YAS RIHANNA']\n",
    "\n",
    "season_summary_table=pd.DataFrame()\n",
    "for player in squad:\n",
    "    sr_df_temp=new_df_date.loc[new_df_date['player']==player,['Tank SR','Support SR', 'Damage SR']].dropna()\n",
    "\n",
    "    t=OW_player_analysis(new_df.loc[new_df['player']==player])\n",
    "    t.check_role_changes()\n",
    "\n",
    "    sr_df=t.all_roles_dff_sr.join(sr_df_temp,rsuffix=' level')\n",
    "\n",
    "    actual_start=sr_df.loc[(sr_df['Games Won Support']<0)&(sr_df.index>season_start)].index[0]\n",
    "    try:actual_end=sr_df.loc[(sr_df['Games Won Support']<0)&(sr_df.index>season_start)].index[1]\n",
    "    #Clean this up once there's a standard list of season boundary dates\n",
    "    except:actual_end=pd.Timestamp('2020-09-4',freq='D')\n",
    "    season_df=sr_df.loc[(sr_df.index>actual_start)&(sr_df.index<actual_end)]\n",
    "\n",
    "    for role in roles:\n",
    "        \n",
    "        #NEed to do this over the post placement period\n",
    "        role_mean_sr=(season_df.loc[~season_df[f'{role} SR level'].isna(),f'{role} SR level']*season_df.loc[~season_df[f'{role} SR level'].isna(),f'Games Played {role}']\n",
    "                     ).sum()/season_df.loc[~season_df[f'{role} SR level'].isna(),f'Games Played {role}'].sum()\n",
    "        season_summary_table.loc[player,f'Mean {role} SR']=role_mean_sr\n",
    "\n",
    "\n",
    "\"\"\"\n",
    "to-do, also include seasons highs/lows. Make visual?\n",
    "\"\"\""
   ]
  },
  {
   "cell_type": "code",
   "execution_count": 18,
   "metadata": {},
   "outputs": [
    {
     "output_type": "execute_result",
     "data": {
      "text/plain": [
       "               Mean Damage SR  Mean Tank SR  Mean Support SR\n",
       "Rthunder27        2354.108108   2466.733333      2770.222826\n",
       "BIGoleICEBERG     2207.551020   2370.403226      2522.647059\n",
       "Seraph341         2613.000000   2452.546512      2652.887324\n",
       "LaCroixDaddy      2229.478261   2321.863636      2793.914286\n",
       "YAS RIHANNA       2217.441667   1962.473684      2144.591837"
      ],
      "text/html": "<div>\n<style scoped>\n    .dataframe tbody tr th:only-of-type {\n        vertical-align: middle;\n    }\n\n    .dataframe tbody tr th {\n        vertical-align: top;\n    }\n\n    .dataframe thead th {\n        text-align: right;\n    }\n</style>\n<table border=\"1\" class=\"dataframe\">\n  <thead>\n    <tr style=\"text-align: right;\">\n      <th></th>\n      <th>Mean Damage SR</th>\n      <th>Mean Tank SR</th>\n      <th>Mean Support SR</th>\n    </tr>\n  </thead>\n  <tbody>\n    <tr>\n      <th>Rthunder27</th>\n      <td>2354.108108</td>\n      <td>2466.733333</td>\n      <td>2770.222826</td>\n    </tr>\n    <tr>\n      <th>BIGoleICEBERG</th>\n      <td>2207.551020</td>\n      <td>2370.403226</td>\n      <td>2522.647059</td>\n    </tr>\n    <tr>\n      <th>Seraph341</th>\n      <td>2613.000000</td>\n      <td>2452.546512</td>\n      <td>2652.887324</td>\n    </tr>\n    <tr>\n      <th>LaCroixDaddy</th>\n      <td>2229.478261</td>\n      <td>2321.863636</td>\n      <td>2793.914286</td>\n    </tr>\n    <tr>\n      <th>YAS RIHANNA</th>\n      <td>2217.441667</td>\n      <td>1962.473684</td>\n      <td>2144.591837</td>\n    </tr>\n  </tbody>\n</table>\n</div>"
     },
     "metadata": {},
     "execution_count": 18
    }
   ],
   "source": [
    "season_summary_table\n",
    "#pd.set_option('display.max_columns', None)"
   ]
  },
  {
   "cell_type": "code",
   "execution_count": 19,
   "metadata": {},
   "outputs": [],
   "source": [
    "\"\"\"\n",
    "Do this for all roles/players. Filter out when N is too low (less than 10-15?)\n",
    "Columns: For each role, + coeff, -coeff,adj R2\n",
    "\n",
    "Consider an option to do it by season, to see how the coeffs change with time.\n",
    "\"\"\"\n",
    "squad=['Rthunder27','BIGoleICEBERG','Seraph341','LaCroixDaddy','YAS RIHANNA','star4ker','ULove2SeeIt7915']\n",
    "roles=['Damage','Tank','Support']\n",
    "sr_coeffs_df=pd.DataFrame()\n",
    "\n",
    "for gamer_tag in squad:\n",
    "    t=OW_player_analysis(new_df.loc[new_df['player']==gamer_tag])\n",
    "    for role in roles:\n",
    "        t.check_role_changes()\n",
    "        role_df=t.all_roles_dff_sr[[f'Games Won {role}',f'Games Lost {role}',f'{role} SR']].dropna()\n",
    "        role_df=role_df.loc[~(role_df==0).all(axis=1)]\n",
    "        role_df_Y=role_df[[f'{role} SR']]\n",
    "        role_df_X=role_df.drop(columns=[f'{role} SR'])\n",
    "        if role_df_X.shape[0]<15:continue\n",
    "        model = sm.OLS(role_df_Y, role_df_X)\n",
    "        results = model.fit()\n",
    "\n",
    "        sr_coeffs_df.loc[gamer_tag,f'{role} +']=results.params[0]\n",
    "        sr_coeffs_df.loc[gamer_tag,f'{role} -']=results.params[1]\n",
    "        sr_coeffs_df.loc[gamer_tag,f'{role} R^2']=results.rsquared_adj"
   ]
  },
  {
   "cell_type": "code",
   "execution_count": 20,
   "metadata": {},
   "outputs": [
    {
     "output_type": "execute_result",
     "data": {
      "text/plain": [
       "                  Damage +   Damage -  Damage R^2     Tank +     Tank -  \\\n",
       "Rthunder27       19.736804 -17.932441    0.812065  22.793804 -22.785163   \n",
       "BIGoleICEBERG    15.841940 -16.983960    0.710217  15.955133 -16.464790   \n",
       "Seraph341        15.072892 -15.093677    0.667421  21.946443 -20.718857   \n",
       "LaCroixDaddy     17.102436 -15.683164    0.730431  17.924136 -16.374609   \n",
       "YAS RIHANNA      16.202680 -17.102123    0.721809  18.714935 -18.100385   \n",
       "ULove2SeeIt7915        NaN        NaN         NaN  13.557250 -10.605466   \n",
       "\n",
       "                 Tank R^2  Support +  Support -  Support R^2  \n",
       "Rthunder27       0.968580  26.175458 -23.070927     0.945256  \n",
       "BIGoleICEBERG    0.672798  17.766590 -20.315497     0.762886  \n",
       "Seraph341        0.883382  19.820977 -18.350117     0.798649  \n",
       "LaCroixDaddy     0.704946  19.162347 -17.971943     0.752407  \n",
       "YAS RIHANNA      0.764126  16.524700 -16.269642     0.713516  \n",
       "ULove2SeeIt7915  0.399933  27.998013 -24.010720     0.880678  "
      ],
      "text/html": "<div>\n<style scoped>\n    .dataframe tbody tr th:only-of-type {\n        vertical-align: middle;\n    }\n\n    .dataframe tbody tr th {\n        vertical-align: top;\n    }\n\n    .dataframe thead th {\n        text-align: right;\n    }\n</style>\n<table border=\"1\" class=\"dataframe\">\n  <thead>\n    <tr style=\"text-align: right;\">\n      <th></th>\n      <th>Damage +</th>\n      <th>Damage -</th>\n      <th>Damage R^2</th>\n      <th>Tank +</th>\n      <th>Tank -</th>\n      <th>Tank R^2</th>\n      <th>Support +</th>\n      <th>Support -</th>\n      <th>Support R^2</th>\n    </tr>\n  </thead>\n  <tbody>\n    <tr>\n      <th>Rthunder27</th>\n      <td>19.736804</td>\n      <td>-17.932441</td>\n      <td>0.812065</td>\n      <td>22.793804</td>\n      <td>-22.785163</td>\n      <td>0.968580</td>\n      <td>26.175458</td>\n      <td>-23.070927</td>\n      <td>0.945256</td>\n    </tr>\n    <tr>\n      <th>BIGoleICEBERG</th>\n      <td>15.841940</td>\n      <td>-16.983960</td>\n      <td>0.710217</td>\n      <td>15.955133</td>\n      <td>-16.464790</td>\n      <td>0.672798</td>\n      <td>17.766590</td>\n      <td>-20.315497</td>\n      <td>0.762886</td>\n    </tr>\n    <tr>\n      <th>Seraph341</th>\n      <td>15.072892</td>\n      <td>-15.093677</td>\n      <td>0.667421</td>\n      <td>21.946443</td>\n      <td>-20.718857</td>\n      <td>0.883382</td>\n      <td>19.820977</td>\n      <td>-18.350117</td>\n      <td>0.798649</td>\n    </tr>\n    <tr>\n      <th>LaCroixDaddy</th>\n      <td>17.102436</td>\n      <td>-15.683164</td>\n      <td>0.730431</td>\n      <td>17.924136</td>\n      <td>-16.374609</td>\n      <td>0.704946</td>\n      <td>19.162347</td>\n      <td>-17.971943</td>\n      <td>0.752407</td>\n    </tr>\n    <tr>\n      <th>YAS RIHANNA</th>\n      <td>16.202680</td>\n      <td>-17.102123</td>\n      <td>0.721809</td>\n      <td>18.714935</td>\n      <td>-18.100385</td>\n      <td>0.764126</td>\n      <td>16.524700</td>\n      <td>-16.269642</td>\n      <td>0.713516</td>\n    </tr>\n    <tr>\n      <th>ULove2SeeIt7915</th>\n      <td>NaN</td>\n      <td>NaN</td>\n      <td>NaN</td>\n      <td>13.557250</td>\n      <td>-10.605466</td>\n      <td>0.399933</td>\n      <td>27.998013</td>\n      <td>-24.010720</td>\n      <td>0.880678</td>\n    </tr>\n  </tbody>\n</table>\n</div>"
     },
     "metadata": {},
     "execution_count": 20
    }
   ],
   "source": [
    "sr_coeffs_df"
   ]
  },
  {
   "cell_type": "code",
   "execution_count": 23,
   "metadata": {},
   "outputs": [
    {
     "output_type": "execute_result",
     "data": {
      "text/plain": [
       "<class 'statsmodels.iolib.summary.Summary'>\n",
       "\"\"\"\n",
       "                                 OLS Regression Results                                \n",
       "=======================================================================================\n",
       "Dep. Variable:             Support SR   R-squared (uncentered):                   0.888\n",
       "Model:                            OLS   Adj. R-squared (uncentered):              0.881\n",
       "Method:                 Least Squares   F-statistic:                              119.1\n",
       "Date:                Mon, 03 May 2021   Prob (F-statistic):                    5.38e-15\n",
       "Time:                        17:35:13   Log-Likelihood:                         -133.02\n",
       "No. Observations:                  32   AIC:                                      270.0\n",
       "Df Residuals:                      30   BIC:                                      273.0\n",
       "Df Model:                           2                                                  \n",
       "Covariance Type:            nonrobust                                                  \n",
       "======================================================================================\n",
       "                         coef    std err          t      P>|t|      [0.025      0.975]\n",
       "--------------------------------------------------------------------------------------\n",
       "Games Won Support     27.9980      2.368     11.822      0.000      23.161      32.835\n",
       "Games Lost Support   -24.0107      1.583    -15.172      0.000     -27.243     -20.779\n",
       "==============================================================================\n",
       "Omnibus:                       19.448   Durbin-Watson:                   1.237\n",
       "Prob(Omnibus):                  0.000   Jarque-Bera (JB):               27.373\n",
       "Skew:                          -1.543   Prob(JB):                     1.14e-06\n",
       "Kurtosis:                       6.317   Cond. No.                         4.16\n",
       "==============================================================================\n",
       "\n",
       "Notes:\n",
       "[1] R² is computed without centering (uncentered) since the model does not contain a constant.\n",
       "[2] Standard Errors assume that the covariance matrix of the errors is correctly specified.\n",
       "\"\"\""
      ],
      "text/html": "<table class=\"simpletable\">\n<caption>OLS Regression Results</caption>\n<tr>\n  <th>Dep. Variable:</th>       <td>Support SR</td>    <th>  R-squared (uncentered):</th>      <td>   0.888</td>\n</tr>\n<tr>\n  <th>Model:</th>                   <td>OLS</td>       <th>  Adj. R-squared (uncentered):</th> <td>   0.881</td>\n</tr>\n<tr>\n  <th>Method:</th>             <td>Least Squares</td>  <th>  F-statistic:       </th>          <td>   119.1</td>\n</tr>\n<tr>\n  <th>Date:</th>             <td>Mon, 03 May 2021</td> <th>  Prob (F-statistic):</th>          <td>5.38e-15</td>\n</tr>\n<tr>\n  <th>Time:</th>                 <td>17:35:13</td>     <th>  Log-Likelihood:    </th>          <td> -133.02</td>\n</tr>\n<tr>\n  <th>No. Observations:</th>      <td>    32</td>      <th>  AIC:               </th>          <td>   270.0</td>\n</tr>\n<tr>\n  <th>Df Residuals:</th>          <td>    30</td>      <th>  BIC:               </th>          <td>   273.0</td>\n</tr>\n<tr>\n  <th>Df Model:</th>              <td>     2</td>      <th>                     </th>              <td> </td>   \n</tr>\n<tr>\n  <th>Covariance Type:</th>      <td>nonrobust</td>    <th>                     </th>              <td> </td>   \n</tr>\n</table>\n<table class=\"simpletable\">\n<tr>\n           <td></td>             <th>coef</th>     <th>std err</th>      <th>t</th>      <th>P>|t|</th>  <th>[0.025</th>    <th>0.975]</th>  \n</tr>\n<tr>\n  <th>Games Won Support</th>  <td>   27.9980</td> <td>    2.368</td> <td>   11.822</td> <td> 0.000</td> <td>   23.161</td> <td>   32.835</td>\n</tr>\n<tr>\n  <th>Games Lost Support</th> <td>  -24.0107</td> <td>    1.583</td> <td>  -15.172</td> <td> 0.000</td> <td>  -27.243</td> <td>  -20.779</td>\n</tr>\n</table>\n<table class=\"simpletable\">\n<tr>\n  <th>Omnibus:</th>       <td>19.448</td> <th>  Durbin-Watson:     </th> <td>   1.237</td>\n</tr>\n<tr>\n  <th>Prob(Omnibus):</th> <td> 0.000</td> <th>  Jarque-Bera (JB):  </th> <td>  27.373</td>\n</tr>\n<tr>\n  <th>Skew:</th>          <td>-1.543</td> <th>  Prob(JB):          </th> <td>1.14e-06</td>\n</tr>\n<tr>\n  <th>Kurtosis:</th>      <td> 6.317</td> <th>  Cond. No.          </th> <td>    4.16</td>\n</tr>\n</table><br/><br/>Notes:<br/>[1] R² is computed without centering (uncentered) since the model does not contain a constant.<br/>[2] Standard Errors assume that the covariance matrix of the errors is correctly specified."
     },
     "metadata": {},
     "execution_count": 23
    }
   ],
   "source": [
    "results.summary()"
   ]
  }
 ],
 "metadata": {
  "kernelspec": {
   "display_name": "Python 3",
   "language": "python",
   "name": "python3"
  },
  "language_info": {
   "codemirror_mode": {
    "name": "ipython",
    "version": 3
   },
   "file_extension": ".py",
   "mimetype": "text/x-python",
   "name": "python",
   "nbconvert_exporter": "python",
   "pygments_lexer": "ipython3",
   "version": "3.6.5-final"
  }
 },
 "nbformat": 4,
 "nbformat_minor": 2
}